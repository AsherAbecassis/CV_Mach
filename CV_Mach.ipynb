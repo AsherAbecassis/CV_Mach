{
 "cells": [
  {
   "cell_type": "code",
   "execution_count": 1,
   "id": "431fd46c",
   "metadata": {},
   "outputs": [],
   "source": [
    "import docx2txt as doc\n",
    "from docx import Document\n",
    "from sklearn.feature_extraction.text import CountVectorizer\n",
    "from sklearn.metrics.pairwise import cosine_similarity"
   ]
  },
  {
   "cell_type": "code",
   "execution_count": 2,
   "id": "b87624d5",
   "metadata": {},
   "outputs": [
    {
     "name": "stdout",
     "output_type": "stream",
     "text": [
      "MARIA LISA\n",
      "\n",
      "Email: maria123@gmail.com\n",
      "Phone: (555)-555-5555\n",
      "\n",
      "\n",
      "\n",
      "CAREER SUMMARY\n",
      "\n",
      "Around 3 Years of experience in Analysis, Design, Development, Management and Validation of various stand-alone and client-server applications.\n",
      "\n",
      "2+ years of experience in implementing Object-Oriented Python, Hash Tables (Dictionaries) and Multi threading.\n",
      "\n",
      "Experience in installing software using pip command for python libraries and extensive usage of the PEP8 coding convention.\n",
      "\n",
      "Good understanding on Django ORM and SQLAlchemy.\n",
      "\n",
      "Experienced in interfacing with third party API’s using REST and SOAP\n",
      "\n",
      "Worked with varieties of Relational Databases (RDBMS) like SQLite, MySQL and PostgreSQL.\n",
      "\n",
      "Experienced in writing SubQueries, Triggers, Cursors, Stored Procedures and Functions.\n",
      "\n",
      "Proficient knowledge of Web services like Google Cloud and Amazon AWS Services.\n",
      "\n",
      "Good Knowledge on Linux and Shell Scripting.\n",
      "\n",
      "Experienced in developing web-based applications using Python, PHP, XML, JSON and MVC3\n",
      "\n",
      "Well versed in design and development of presentation layer for web applications using technologies like HTML,CSS, JavaScript, JQuery, AJAX and Bootstrap.\n",
      "\n",
      "EDUCATION\n",
      "\n",
      "Course (Stream)/ Examination\n",
      "\n",
      "Institution/University/School\n",
      "\n",
      "Year of Passing\n",
      "\n",
      "Performance\n",
      "\n",
      "B.E\n",
      "\n",
      "Tagore College of Engineering and Technology – Chennai\n",
      "\n",
      "2015\n",
      "\n",
      "90%\n",
      "\n",
      "HSC\n",
      "\n",
      "Scread Higher Secondary School\n",
      "\n",
      "2009\n",
      "\n",
      "84%\n",
      "\n",
      "SSLC\n",
      "\n",
      "ST.Marry Higher Secondary School\n",
      "\n",
      "2007\n",
      "\n",
      "80%\n",
      "\n",
      "\n",
      "\n",
      "SKILLS\n",
      "\n",
      "AJAX (1 year)\n",
      "\n",
      "CSS (1 year)\n",
      "\n",
      "HTML (1 year)\n",
      "\n",
      "JAVASCRIPT (1 year)\n",
      "\n",
      "MYSQL (1 year)\n",
      "\n",
      "WORK EXPERIENCE\n",
      "\n",
      "1.) Python Developer\n",
      "\n",
      "Tata Consultancy Services – October 2015 to December 2016\n",
      "\n",
      "\n",
      "\n",
      "Responsibilities: \n",
      "\n",
      "Involved in building database model, APIs and views utilizing Python, in order to build an interactive web based solution.\n",
      "\n",
      "Used data types like dictionaries, tuples and object -concepts based inheritance features for making complex algorithms of networks.\n",
      "\n",
      "Designed and developed the UI of the website using HTML, XHTML, AJAX, CSS and JavaScript.\n",
      "\n",
      "Expertise in client scripting languages like JavaScript, JQuery, JSON, DOJO, bootstrap, Angular.js.\n",
      "\n",
      "Designed and managed API system deployment using fast http server and Amazon AWS architecture\n",
      "\n",
      "Worked on Python Open stack API’s.\n",
      "\n",
      "Carried out various mathematical operations for calculation purpose using python libraries.\n",
      "\n",
      "Managed large datasets using Panda data frames and MySQL.\n",
      "\n",
      "Worked with JSON based REST Web services.\n",
      "\n",
      "Performed testing using Django’s Test Module.\n",
      "\n",
      "Creating unit test/regression test framework for working/new code.\n",
      "\n",
      "Using Subversion version control tool to coordinate team-development.\n",
      "\n",
      "Environment: Python, XML, Java, MySQL, Apache, CSS, HTML, JavaScript, Shell Scripts, Linux and Windows.\n",
      "\n",
      "2.) Python Developer\n",
      "\n",
      "Techwave Consulting Inc  – January 2015 to October 2015\n",
      "\n",
      "Responsibilities:\n",
      "\n",
      "Developed Views and Templates with Django view, controller and template language to create a user-friendly website interface.\n",
      "\n",
      "Configured the Django admin site, dashboard and created a custom Django dashboard for end users with custom look and feel.\n",
      "\n",
      "Used Python for XML, JSON processing, data exchange and business logic implementation.\n",
      "\n",
      "Created UI using JavaScript and HTML5. Designed and developed data management system using MongoDB.\n",
      "\n",
      "Used Python scripts to update the content in database and manipulate files.\n",
      "\n",
      "Proficient in Software Design and Development with a solid background in developing.\n",
      "\n",
      "Environment: Python, XML, MySQL, Apache, CSS, HTML, JavaScript, Shell Scripts, Linux and Windows.\n",
      "\n",
      "\n",
      "\n",
      "ADDITIONAL INFORMATION\n",
      "\n",
      "Languages Python, PHP, Java, C++, Shell scripting\n",
      "\n",
      "Python Framework Django, Pandas, Numpy, Scipy, Matplotlib, Seaborn, TensorFlow, Scikit-Learn, Pytorch.\n",
      "\n",
      "Databases MS SQL, MySQL, Oracle, PostgreSQL\n",
      "\n",
      "Web Technologies XML, CSS, HTML 5, JavaScript, JQuery, MVC 3, Bootstrap, AJAX, angular 2, PHP\n",
      "\n",
      "IDE Visual studio, PyCharm, Eclipse, MyEclipse\n"
     ]
    }
   ],
   "source": [
    "cv= doc.process(\"sample_1.docx\")\n",
    "print(cv)"
   ]
  },
  {
   "cell_type": "code",
   "execution_count": 3,
   "id": "32063ef8",
   "metadata": {},
   "outputs": [
    {
     "name": "stdout",
     "output_type": "stream",
     "text": [
      "BSc./B.A. in Computer Science/Computer Engineering/equivalent degree\n",
      "\n",
      "      2 years of coding experience in C/C++ over Linux\n",
      "\n",
      "      Strong problem-solving skills along with the ability to work independently\n",
      "\n",
      "      Highly motivated, confident, a quick learner and team player\n",
      "\n",
      "      Strive to learn new things and gain experience\n",
      "\n",
      " \n",
      "\n",
      "Preferred Qualifications:\n",
      "\n",
      "      Knowledge in storage\n",
      "\n",
      "      Experience in server-side development\n",
      "\n",
      "      Experience in cloud based computing\n",
      "\n",
      "      Experience in ROS\n",
      "\n",
      "      Experience in performance-oriented development\n"
     ]
    }
   ],
   "source": [
    "job= doc.process(\"job_de.docx\")\n",
    "print(job)"
   ]
  },
  {
   "cell_type": "code",
   "execution_count": 4,
   "id": "d66556cb",
   "metadata": {},
   "outputs": [],
   "source": [
    "text = [cv, job]"
   ]
  },
  {
   "cell_type": "code",
   "execution_count": 5,
   "id": "c7353508",
   "metadata": {},
   "outputs": [],
   "source": [
    "c = CountVectorizer()\n",
    "count_matrix = c.fit_transform(text)"
   ]
  },
  {
   "cell_type": "code",
   "execution_count": 6,
   "id": "accd3435",
   "metadata": {},
   "outputs": [
    {
     "name": "stdout",
     "output_type": "stream",
     "text": [
      "[[1.         0.38417337]\n",
      " [0.38417337 1.        ]]\n"
     ]
    }
   ],
   "source": [
    "print(cosine_similarity(count_matrix))"
   ]
  },
  {
   "cell_type": "code",
   "execution_count": 7,
   "id": "d4a1a6ef",
   "metadata": {},
   "outputs": [
    {
     "name": "stdout",
     "output_type": "stream",
     "text": [
      "38.42 %\n"
     ]
    }
   ],
   "source": [
    "matc = cosine_similarity(count_matrix)[0][1]*100\n",
    "matc = round(matc, 2)\n",
    "print(matc,\"%\")"
   ]
  },
  {
   "cell_type": "code",
   "execution_count": null,
   "id": "2fa446fb",
   "metadata": {},
   "outputs": [],
   "source": []
  },
  {
   "cell_type": "code",
   "execution_count": null,
   "id": "60c09f7c",
   "metadata": {},
   "outputs": [],
   "source": []
  },
  {
   "cell_type": "code",
   "execution_count": null,
   "id": "69ad0e8a",
   "metadata": {},
   "outputs": [],
   "source": []
  },
  {
   "cell_type": "code",
   "execution_count": null,
   "id": "f679d0d5",
   "metadata": {},
   "outputs": [],
   "source": []
  },
  {
   "cell_type": "code",
   "execution_count": null,
   "id": "a54fdb8f",
   "metadata": {},
   "outputs": [],
   "source": []
  },
  {
   "cell_type": "code",
   "execution_count": null,
   "id": "97469ee5",
   "metadata": {},
   "outputs": [],
   "source": []
  },
  {
   "cell_type": "code",
   "execution_count": null,
   "id": "e48fd6aa",
   "metadata": {},
   "outputs": [],
   "source": []
  },
  {
   "cell_type": "code",
   "execution_count": null,
   "id": "372f681e",
   "metadata": {},
   "outputs": [],
   "source": []
  },
  {
   "cell_type": "code",
   "execution_count": null,
   "id": "830cbdbe",
   "metadata": {},
   "outputs": [],
   "source": []
  },
  {
   "cell_type": "code",
   "execution_count": null,
   "id": "849997aa",
   "metadata": {},
   "outputs": [],
   "source": []
  },
  {
   "cell_type": "code",
   "execution_count": null,
   "id": "09c396a4",
   "metadata": {},
   "outputs": [],
   "source": []
  },
  {
   "cell_type": "code",
   "execution_count": null,
   "id": "4b8b7fc8",
   "metadata": {},
   "outputs": [],
   "source": []
  }
 ],
 "metadata": {
  "kernelspec": {
   "display_name": "Python 3",
   "language": "python",
   "name": "python3"
  },
  "language_info": {
   "codemirror_mode": {
    "name": "ipython",
    "version": 3
   },
   "file_extension": ".py",
   "mimetype": "text/x-python",
   "name": "python",
   "nbconvert_exporter": "python",
   "pygments_lexer": "ipython3",
   "version": "3.6.13"
  }
 },
 "nbformat": 4,
 "nbformat_minor": 5
}
